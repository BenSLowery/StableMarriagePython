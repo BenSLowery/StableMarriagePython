{
 "cells": [
  {
   "cell_type": "markdown",
   "id": "d33ea1d1",
   "metadata": {},
   "source": [
    "# <u>Python Assessment Notebook</u>"
   ]
  },
  {
   "cell_type": "markdown",
   "id": "f7e15aa1",
   "metadata": {},
   "source": [
    "## Prelims"
   ]
  },
  {
   "cell_type": "code",
   "execution_count": 1,
   "id": "d30d6287",
   "metadata": {},
   "outputs": [],
   "source": [
    "# All packages and some pre-requisites used in this notebook here\n",
    "import itertools\n",
    "from math import comb\n",
    "import random \n",
    "import time\n",
    "import matplotlib.pyplot as plt\n",
    "import numpy as np\n",
    "from IPython.display import display, clear_output\n",
    "plt.style.use('ggplot')"
   ]
  },
  {
   "cell_type": "markdown",
   "id": "41542654",
   "metadata": {},
   "source": [
    "## Task 1"
   ]
  },
  {
   "cell_type": "markdown",
   "id": "c43b7d3d",
   "metadata": {},
   "source": [
    "### a)"
   ]
  },
  {
   "cell_type": "code",
   "execution_count": 2,
   "id": "45d138d7",
   "metadata": {},
   "outputs": [],
   "source": [
    "def count_binary(int_val:int)-> int:\n",
    "    '''Takes positive integer and returns count of 1s in binary representation.'''\n",
    "     \n",
    "    # bin (binary) function adds extra characters to beginning so remove these\n",
    "    binary_rep=bin(int_val).replace(\"0b\",\"\")\n",
    "    \n",
    "    # Sum all 1s by iterating through generated binary rep.\n",
    "    total=sum(int(val) for val in binary_rep)\n",
    "    \n",
    "    return total"
   ]
  },
  {
   "cell_type": "code",
   "execution_count": 3,
   "id": "330d0a01",
   "metadata": {},
   "outputs": [
    {
     "data": {
      "text/plain": [
       "3"
      ]
     },
     "execution_count": 3,
     "metadata": {},
     "output_type": "execute_result"
    }
   ],
   "source": [
    "# Test on 42 (101010)\n",
    "count_binary(42)"
   ]
  },
  {
   "cell_type": "markdown",
   "id": "cda97da0",
   "metadata": {},
   "source": [
    "### b)"
   ]
  },
  {
   "cell_type": "code",
   "execution_count": 4,
   "id": "ef761661",
   "metadata": {},
   "outputs": [],
   "source": [
    "def binary_pos(int_val: int) -> list:\n",
    "    '''Takes positive integer and returns list of positions of 1s in binary representation'''\n",
    "    \n",
    "    pos=[]\n",
    "    \n",
    "    # Convert to binary, remove beginning\n",
    "    binary_val=bin(int_val).replace(\"0b\",\"\")\n",
    "    \n",
    "    # Iterate through binary rep. and keep note of index\n",
    "    for idx, val in enumerate(binary_val):\n",
    "        \n",
    "        if int(val)==1:\n",
    "            # find how many places we are in from the right since binary is indexed right to left\n",
    "            bit_pos=len(binary_val)-idx\n",
    "            \n",
    "            # Find bit position as power of 2, take off 1 since we start shifted to the left by 1\n",
    "            pos.append(2**(bit_pos-1))\n",
    "\n",
    "    return pos"
   ]
  },
  {
   "cell_type": "code",
   "execution_count": 5,
   "id": "ab0e0b0a",
   "metadata": {},
   "outputs": [
    {
     "data": {
      "text/plain": [
       "[32, 8, 2]"
      ]
     },
     "execution_count": 5,
     "metadata": {},
     "output_type": "execute_result"
    }
   ],
   "source": [
    "# Test on 42 (101010)\n",
    "binary_pos(42)"
   ]
  },
  {
   "cell_type": "markdown",
   "id": "9a78fabc",
   "metadata": {},
   "source": [
    "### c)"
   ]
  },
  {
   "cell_type": "code",
   "execution_count": 6,
   "id": "65d274d8",
   "metadata": {},
   "outputs": [],
   "source": [
    "def organise(two_k: int)-> int:\n",
    "    '''Given 2k people, find number of combinations of size k '''\n",
    "    \n",
    "    # Do integer division as to not through an error if odd number is submitted\n",
    "    comb_num =  comb(two_k,two_k//2)\n",
    "    \n",
    "    return comb_num"
   ]
  },
  {
   "cell_type": "code",
   "execution_count": 7,
   "id": "b3ba2f28",
   "metadata": {},
   "outputs": [
    {
     "data": {
      "text/plain": [
       "538257874440"
      ]
     },
     "execution_count": 7,
     "metadata": {},
     "output_type": "execute_result"
    }
   ],
   "source": [
    "# Test on 42\n",
    "organise(42)"
   ]
  },
  {
   "cell_type": "markdown",
   "id": "7cac5210",
   "metadata": {},
   "source": [
    "### d)"
   ]
  },
  {
   "cell_type": "code",
   "execution_count": 8,
   "id": "84be89a2",
   "metadata": {},
   "outputs": [],
   "source": [
    "def generate_teams(k_list: list)->list:\n",
    "    '''Given a list of size 2k, Generate and return teams of size k'''\n",
    "    \n",
    "    # Create combinations using itertools combinations function\n",
    "    combs = itertools.combinations(k_list, len(k_list)//2)\n",
    "    \n",
    "    teams = []\n",
    "\n",
    "    for subset in combs:\n",
    "        \n",
    "        # Append to list the combination, object type is tuple by default so convert to list\n",
    "        teams.append(list(subset))\n",
    "        \n",
    "    return teams"
   ]
  },
  {
   "cell_type": "code",
   "execution_count": 9,
   "id": "89b933a0",
   "metadata": {},
   "outputs": [
    {
     "name": "stdout",
     "output_type": "stream",
     "text": [
      "[[0, 1, 2], [0, 1, 3], [0, 1, 4], [0, 1, 5], [0, 2, 3], [0, 2, 4], [0, 2, 5], [0, 3, 4], [0, 3, 5], [0, 4, 5], [1, 2, 3], [1, 2, 4], [1, 2, 5], [1, 3, 4], [1, 3, 5], [1, 4, 5], [2, 3, 4], [2, 3, 5], [2, 4, 5], [3, 4, 5]]\n"
     ]
    }
   ],
   "source": [
    "# Test for 2k=6\n",
    "test_case = [i for i in range(6)]\n",
    "combinations=generate_teams(test_case)\n",
    "print(combinations)"
   ]
  },
  {
   "cell_type": "markdown",
   "id": "e5374896",
   "metadata": {},
   "source": [
    "## Task 2"
   ]
  },
  {
   "cell_type": "markdown",
   "id": "c78032b6",
   "metadata": {},
   "source": [
    "a) A dictionary will likely be the most pertinent choice of data structure. The `key` could store the persons name, then the values would be ordered preferences as a list embedded in the `value` of the dictionary. There will be two dictionary objects, for both men and woman preference tables.\n",
    "\n",
    "<b><i>An alternative could be to use a Pandas DataFrame, which would be more applicable to the problem setting if the algorithms' implementation required more interacting and analysis of the preference table. It would work by having row headers for the names, and columns to denote the preference position. It would also be useful for better visualisation of the preference table, however these factors likely do not warrant implementation when the Dictionary can perform the main needs of the problem.</i></b>\n",
    "\n",
    "b) A simple list for each member would likely suffice, with the list item being a tuple of the Male/Female matching. "
   ]
  },
  {
   "cell_type": "markdown",
   "id": "90cabc83",
   "metadata": {},
   "source": [
    "## Task 3"
   ]
  },
  {
   "cell_type": "code",
   "execution_count": 10,
   "id": "e7f72247",
   "metadata": {},
   "outputs": [],
   "source": [
    "def GeneratePref(listA: list, listB: list)->dict:\n",
    "    '''Take two lists of equal size and return preference tables'''\n",
    "    \n",
    "    prefA = dict()\n",
    "    prefB = dict()\n",
    "\n",
    "    for item in listA: \n",
    "        prefA[item] = random.sample(listB,len(listB))\n",
    "\n",
    "    for item in listB:\n",
    "        prefB[item] = random.sample(listA,len(listA))\n",
    "        \n",
    "    return prefA, prefB"
   ]
  },
  {
   "cell_type": "code",
   "execution_count": 11,
   "id": "8384a77a",
   "metadata": {},
   "outputs": [
    {
     "data": {
      "text/plain": [
       "({'A': ['b', 'a', 'd', 'c', 'e', 'f'],\n",
       "  'B': ['f', 'd', 'e', 'a', 'b', 'c'],\n",
       "  'C': ['c', 'b', 'e', 'd', 'a', 'f'],\n",
       "  'D': ['f', 'b', 'e', 'd', 'c', 'a'],\n",
       "  'E': ['b', 'f', 'd', 'a', 'e', 'c'],\n",
       "  'F': ['d', 'c', 'f', 'a', 'b', 'e']},\n",
       " {'a': ['D', 'C', 'A', 'E', 'F', 'B'],\n",
       "  'b': ['E', 'F', 'A', 'C', 'D', 'B'],\n",
       "  'c': ['C', 'A', 'F', 'D', 'E', 'B'],\n",
       "  'd': ['B', 'E', 'F', 'C', 'A', 'D'],\n",
       "  'e': ['F', 'A', 'E', 'C', 'B', 'D'],\n",
       "  'f': ['D', 'E', 'F', 'C', 'B', 'A']})"
      ]
     },
     "execution_count": 11,
     "metadata": {},
     "output_type": "execute_result"
    }
   ],
   "source": [
    "# Test\n",
    "listA = ['A','B','C','D','E','F']\n",
    "listB = ['a','b','c','d','e','f']\n",
    "\n",
    "Men, Women = GeneratePref(listA, listB)\n",
    "Men, Women"
   ]
  },
  {
   "cell_type": "markdown",
   "id": "ec97d7be",
   "metadata": {},
   "source": [
    "## Task 4"
   ]
  },
  {
   "cell_type": "code",
   "execution_count": 12,
   "id": "ecb3c3c3",
   "metadata": {},
   "outputs": [],
   "source": [
    "def CheckPref(PrefA: dict, PrefB: dict)->bool:\n",
    "    '''Checks validity of two preference tables to be used in stable marriage problem'''\n",
    "    \n",
    "    # Check they contain the same number of items (key/value pairs)\n",
    "    if len(PrefA) != len(PrefB):\n",
    "        return False\n",
    "    \n",
    "    # Preference table A\n",
    "    for row in PrefB.values():\n",
    "        # sort row to allow checking (we care about the values being unique not the ordering)\n",
    "        row = sorted(row)\n",
    "        \n",
    "        # Check if not equal\n",
    "        if row != list(PrefA.keys()):\n",
    "            return False\n",
    "    \n",
    "    # Preference table B\n",
    "    for row in PrefA.values():\n",
    "        # sort row to allow checking\n",
    "        row = sorted(row)\n",
    "        \n",
    "        if row != list(PrefB.keys()):\n",
    "            return False\n",
    "    \n",
    "    # If reaches here, it passed all tests.\n",
    "    return True"
   ]
  },
  {
   "cell_type": "code",
   "execution_count": 13,
   "id": "24f75a33",
   "metadata": {},
   "outputs": [
    {
     "data": {
      "text/plain": [
       "True"
      ]
     },
     "execution_count": 13,
     "metadata": {},
     "output_type": "execute_result"
    }
   ],
   "source": [
    "# Test\n",
    "\n",
    "ExampleMen = {'A': ['c','b','d','a'], 'B': ['b','a','c','d'], 'C': ['b','d','a','c'] ,'D': ['c','a','d','b']}\n",
    "ExampleWomen = {'a': ['A','B','D','C'], 'b': ['C', 'A', 'D', 'B'], 'c': ['C', 'B', 'D','A'], 'd': ['B', 'A', 'C', 'D']}\n",
    "\n",
    "CheckPref(ExampleMen, ExampleWomen)"
   ]
  },
  {
   "cell_type": "markdown",
   "id": "c01ac2de",
   "metadata": {},
   "source": [
    "## Task 5"
   ]
  },
  {
   "cell_type": "code",
   "execution_count": 14,
   "id": "ad979c7f",
   "metadata": {},
   "outputs": [],
   "source": [
    "def isStable(prefA: dict, prefB: dict, matchings:list)->bool:\n",
    "    '''Checks if matchings for given preference tables are stable'''\n",
    "    \n",
    "    # Loop over and parse each matching\n",
    "    for match in matchings:\n",
    "        # Get people the man prefers over his current marriage\n",
    "        MarriageIdx = prefA[match[0]].index(match[1])\n",
    "        prefs = prefA[match[0]][:MarriageIdx]\n",
    "        \n",
    "        # Loop through these preferred matches\n",
    "        for pref in prefs:\n",
    "            \n",
    "            # get Preferred womans ranking of the man\n",
    "            manRankIdx = prefB[pref].index(match[0])\n",
    "            \n",
    "            # See who woman is married to at the moment and get ranking\n",
    "            womCurrMarr = [item[0] for item in matchings if item[1] == pref][0]\n",
    "            womCurrMarrIdx = prefB[pref].index(womCurrMarr)\n",
    "            \n",
    "            # if prefered woman also prefers man over current marriage return false\n",
    "            if manRankIdx < womCurrMarrIdx:\n",
    "                return False\n",
    "    return True"
   ]
  },
  {
   "cell_type": "code",
   "execution_count": 15,
   "id": "6ba752d2",
   "metadata": {},
   "outputs": [
    {
     "name": "stdout",
     "output_type": "stream",
     "text": [
      "False\n",
      "False\n",
      "False\n",
      "True\n"
     ]
    }
   ],
   "source": [
    "# Test on matchings first 3 unstable, last one stable\n",
    "testcases = [[('A','a'), ('B','b'), ('C','c'), ('D','d')], \n",
    "             [('A','b'), ('B','a'), ('C','c'), ('D','d')],\n",
    "             [('A','c'), ('B','a'), ('C','b'), ('D','d')],\n",
    "             [('A','d'), ('B','a'), ('C','b'), ('D','c')]]\n",
    "for test in testcases:\n",
    "    # should return false, false, false, true\n",
    "    print(isStable(ExampleMen, ExampleWomen, test))\n",
    "    "
   ]
  },
  {
   "cell_type": "markdown",
   "id": "63b0c255",
   "metadata": {},
   "source": [
    "## Task 6"
   ]
  },
  {
   "cell_type": "code",
   "execution_count": 16,
   "id": "78e45e86",
   "metadata": {},
   "outputs": [],
   "source": [
    "def matchScore(prefA: dict, prefB: dict, matchings: list)-> tuple:\n",
    "    '''Scores the matching for two given preference tables for male and females'''\n",
    "    \n",
    "    # Store counts\n",
    "    mtfScore = 0\n",
    "    ftmScore = 0\n",
    "    \n",
    "    # iterate over men to women matchings\n",
    "    for man in prefA.keys():\n",
    "        \n",
    "        # Find person they're matched to and add rank to score\n",
    "        maleMatch = [item[1] for item in matchings if item[0] == man][0]\n",
    "        mtfScore += prefA[man].index(maleMatch)\n",
    "    \n",
    "    # analogous for women to men\n",
    "    for woman in prefB.keys():\n",
    "        \n",
    "        womMatch = [item[0] for item in matchings if item[1] == woman][0]\n",
    "        ftmScore += prefB[woman].index(womMatch)\n",
    "    \n",
    "    return mtfScore, ftmScore"
   ]
  },
  {
   "cell_type": "code",
   "execution_count": 17,
   "id": "b13c5341",
   "metadata": {},
   "outputs": [
    {
     "name": "stdout",
     "output_type": "stream",
     "text": [
      "(8, 6)\n",
      "(7, 5)\n",
      "(3, 7)\n",
      "(3, 4)\n"
     ]
    }
   ],
   "source": [
    "# Test on same matchings as above\n",
    "\n",
    "testcases = [[('A','a'), ('B','b'), ('C','c'), ('D','d')], \n",
    "             [('A','b'), ('B','a'), ('C','c'), ('D','d')],\n",
    "             [('A','c'), ('B','a'), ('C','b'), ('D','d')],\n",
    "             [('A','d'), ('B','a'), ('C','b'), ('D','c')]]\n",
    "\n",
    "for test in testcases:\n",
    "    # should return (8,6), (7,5), (3,7), (3,4)\n",
    "    print(matchScore(ExampleMen, ExampleWomen, test))"
   ]
  },
  {
   "cell_type": "markdown",
   "id": "e0f00c3d",
   "metadata": {},
   "source": [
    "## Task 7"
   ]
  },
  {
   "cell_type": "markdown",
   "id": "35ed6a5f",
   "metadata": {},
   "source": [
    "a) Append the undesirable man to the end of the preference list of all the Women before starting the algorithm. Also add the undesirable man as a key to the first preference table but we do not need to assign values, it more works as a trivial case to avoid potential errors with calling empty lists.\n",
    "\n",
    "\n",
    "b)"
   ]
  },
  {
   "cell_type": "code",
   "execution_count": 18,
   "id": "8e57f0cf",
   "metadata": {},
   "outputs": [],
   "source": [
    "def StableMarriageAlgo(prefA:dict, prefB:dict)->list:\n",
    "    '''Enactes the stable marriage algorithm and returns a set of stable matchings'''\n",
    "    \n",
    "    # initialisation\n",
    "    k = 0\n",
    "    n = len(prefA)\n",
    "\n",
    "    # Add undesirable man to womans preference table and temporarily engage\n",
    "    for vals in prefB.values():\n",
    "        vals.append('undesirable') # Assign undesirable man\n",
    "    prefA['undesirable'] = []\n",
    "    tempMatchings = [(prefB[w][-1],w) for w in prefB.keys()]\n",
    "\n",
    "    while k<n:\n",
    "        # Assign to next man in list as suitor\n",
    "        X = list(prefA.keys())[k]\n",
    "        # Get that mans preference list\n",
    "        prefs = list(prefA[X])\n",
    "        # While the suitor isnt the undesirable man\n",
    "        while X != 'undesirable':\n",
    "            # find best remaining choice on suitors list (i.e. make advance on female x)\n",
    "            x = prefs[0]\n",
    "\n",
    "            # Get index of suitor (X) and fiance from womans (x) list\n",
    "            womCurrMatch = [item[0] for item in tempMatchings if item[1] == x][0]\n",
    "            womCurrMatchIdx = prefB[x].index(womCurrMatch)\n",
    "            womSuitorIdx =  prefB[x].index(X)\n",
    "            \n",
    "            if womSuitorIdx < womCurrMatchIdx:\n",
    "                # call off womans (x) current marriage and match suitor (X) and woman\n",
    "                tempMatchings.remove((womCurrMatch, x))\n",
    "                tempMatchings.append((X,x))\n",
    "                # New suitor is abandoned man\n",
    "                X = womCurrMatch\n",
    "                \n",
    "                # Generate new preference list\n",
    "                prefs = list(prefA[X])\n",
    "            \n",
    "            if X != 'undesirable':\n",
    "                # Remove x from suitors list\n",
    "                prefs.remove(x)\n",
    "                \n",
    "        k+=1\n",
    "    return sorted(tempMatchings)"
   ]
  },
  {
   "cell_type": "code",
   "execution_count": 19,
   "id": "80bbfec8",
   "metadata": {},
   "outputs": [],
   "source": [
    "# Test\n",
    "ExampleMen = {'A': ['c','b','d','a'], 'B': ['b','a','c','d'], 'C': ['b','d','a','c'] ,'D': ['c','a','d','b']}\n",
    "ExampleWomen = {'a': ['A','B','D','C'], 'b': ['C', 'A', 'D', 'B'], 'c': ['C', 'B', 'D','A'], 'd': ['B', 'A', 'C', 'D']}\n",
    "\n",
    "match = StableMarriageAlgo(ExampleMen, ExampleWomen)\n",
    "\n",
    "# Check Match is stable\n",
    "assert isStable(ExampleMen, ExampleWomen, match)"
   ]
  },
  {
   "cell_type": "markdown",
   "id": "bbd66eb1",
   "metadata": {},
   "source": [
    "## Task 8"
   ]
  },
  {
   "cell_type": "code",
   "execution_count": 20,
   "id": "72271af6",
   "metadata": {},
   "outputs": [
    {
     "data": {
      "text/plain": [
       "'Iteration 499'"
      ]
     },
     "metadata": {},
     "output_type": "display_data"
    },
    {
     "name": "stdout",
     "output_type": "stream",
     "text": [
      "Finished!\n"
     ]
    }
   ],
   "source": [
    "# Simulation study\n",
    "# Ran on: 2017 iMac with 2.3 GHz Dual-Core Intel Core i5 Processeor\n",
    "# Set up\n",
    "random.seed(42)\n",
    "prefRange = range(1,500)\n",
    "sims = 4\n",
    "times = [[] for i in range(sims)]\n",
    "\n",
    "for sim in range(sims):\n",
    "    \n",
    "    times[sim] = []\n",
    "    \n",
    "    # Iterate over preference table sizes\n",
    "    for prefSize in prefRange:\n",
    "        \n",
    "        # Output to the user and start timer\n",
    "        clear_output(wait=True)\n",
    "        display('Iteration ' + str(prefSize))\n",
    "        start = time.perf_counter()\n",
    "        \n",
    "        # generate preference tables\n",
    "        men = ['M'+str(i) for i in range(prefSize)]\n",
    "        women = ['W'+str(i) for i in range(prefSize)]\n",
    "        m, w = GeneratePref(men, women)\n",
    "        \n",
    "        # Find stable matchings\n",
    "        match = StableMarriageAlgo(m, w)\n",
    "        \n",
    "        # Check matching is stable (sanity check on if algorithm was correct)\n",
    "        assert isStable(m, w, match)\n",
    "        end = time.perf_counter()\n",
    "        \n",
    "        # Append time \n",
    "        times[sim].append(end-start)\n",
    "print('Finished!')\n",
    "\n",
    "# Get mean over each simulation at each time point\n",
    "time_means = np.mean(times,axis=0)"
   ]
  },
  {
   "cell_type": "code",
   "execution_count": 21,
   "id": "518d3bb1",
   "metadata": {},
   "outputs": [
    {
     "data": {
      "image/png": "[encoded data removed]",
      "text/plain": [
       "<Figure size 432x288 with 1 Axes>"
      ]
     },
     "metadata": {},
     "output_type": "display_data"
    }
   ],
   "source": [
    "# Plot\n",
    "plt.plot(time_means, label='Algorithm')\n",
    "x=np.linspace(1,500)\n",
    "plt.plot(x, (x**2)*(10**(-5.72)), label=r'Adjusted $x^2$') # Should be O(n^2) so try fit a square function, adjusted to a pre-calculated constant (this was a little trial and error) \n",
    "plt.title('Stable marriage computational time')\n",
    "plt.xlabel('Preference table size')\n",
    "plt.ylabel('Avg. Computational time (s)')\n",
    "plt.legend()\n",
    "plt.show()"
   ]
  },
  {
   "cell_type": "markdown",
   "id": "5402f911",
   "metadata": {},
   "source": [
    "## Discussion"
   ]
  },
  {
   "cell_type": "markdown",
   "id": "0ced6699",
   "metadata": {},
   "source": [
    "Theoretically we expect the algorithm to take $O(n^2)$ as seen in the book itself in the Exercise 2, it states the maximum number of iterations is $n^2-n+1$ (bottom of page 15). Another few ways to determine this is seeing that we have two for loops, each having complexity at most O(n), so we can naively conclude from there we should expect growth to follow that there or there about. Finally, fitting a $y=c\\cdot x^2$ line to the timings, for some scaling constant $c$, also shows that the algorithm follows $O(n^2)$, hence the average timings follow this as the preference table sizes increases.\n",
    "\n",
    "Source for helping me understand time complexity calculation: https://pages.cs.wisc.edu/~vernon/cs367/notes/3.COMPLEXITY.html#"
   ]
  },
  {
   "cell_type": "markdown",
   "id": "6281e92a",
   "metadata": {},
   "source": [
    "## Task 9"
   ]
  },
  {
   "cell_type": "code",
   "execution_count": 22,
   "id": "ee406fda",
   "metadata": {},
   "outputs": [
    {
     "data": {
      "text/plain": [
       "'Simulation 499'"
      ]
     },
     "metadata": {},
     "output_type": "display_data"
    },
    {
     "name": "stdout",
     "output_type": "stream",
     "text": [
      "Finished!\n"
     ]
    }
   ],
   "source": [
    "# Simulation study for distribution\n",
    "random.seed(42)\n",
    "prefRange = [4, 16, 37, 64, 128, 256] # A random, but spaced out preference table range\n",
    "sims = 500\n",
    "\n",
    "scores = [[] for i in range(len(prefRange))]\n",
    "\n",
    "# Counter, alterantively could use enumerate in for loop if we wanted\n",
    "i=0\n",
    "\n",
    "for prefSize in prefRange:\n",
    "    for sim in range(sims):\n",
    "        # output for user\n",
    "        clear_output(wait=True)\n",
    "        display('Simulation ' + str(sim))\n",
    "        \n",
    "        # generate preference tables and carry out algo\n",
    "        men = ['M'+str(i) for i in range(prefSize)]\n",
    "        women = ['W'+str(i) for i in range(prefSize)]\n",
    "        m, w = GeneratePref(men, women)\n",
    "        match = StableMarriageAlgo(m, w)\n",
    "        \n",
    "        # Sanity check on stability\n",
    "        assert isStable(m, w, match)\n",
    "\n",
    "        # Drop undesriable from list to avoid error in matchings\n",
    "        m.pop('undesirable')\n",
    "        \n",
    "        # Append score for preference size\n",
    "        scores[i].append(matchScore(m, w,match))\n",
    "    i+=1\n",
    "print('Finished!')"
   ]
  },
  {
   "cell_type": "code",
   "execution_count": 23,
   "id": "8ceb4443",
   "metadata": {},
   "outputs": [
    {
     "data": {
      "image/png": "[encoded data removed]",
      "text/plain": [
       "<Figure size 504x720 with 6 Axes>"
      ]
     },
     "metadata": {},
     "output_type": "display_data"
    }
   ],
   "source": [
    "# Changes figure size but for the whole notebook, so maybe comment out until this is the last plot cell to be run\n",
    "plt.rcParams['figure.figsize'] = [7, 10]\n",
    "\n",
    "# Create a set of subplots and space out\n",
    "fig, ax = plt.subplots(len(prefRange), 1)\n",
    "fig.tight_layout(pad=3.0)\n",
    "for idx, score in enumerate(scores):\n",
    "    \n",
    "    # Separate out men and women\n",
    "    men = []\n",
    "    women = []\n",
    "    for m,w in score:\n",
    "        men.append(m)\n",
    "        women.append(w)\n",
    "    # Create histograms and overlay male and female scores\n",
    "    ax[idx].hist(men,bins=8,alpha=0.75)\n",
    "    ax[idx].set_title('pref size: ' + str(prefRange[idx]))\n",
    "    ax[idx].hist(women,alpha=0.75)\n"
   ]
  },
  {
   "cell_type": "markdown",
   "id": "02215964",
   "metadata": {},
   "source": [
    "## Discussion\n",
    "\n",
    "There is a clear left skew for the preference tables for the men, suggesting the stable matching algorithm may bias the males than the women (as a lower score signifies people have better choices overall), the women's score conversely have both a right skew and a larger range, showing the stable matching algorithm pays little attention to the female matchings, almost like an afterthought as long as the matching is stable under the conditions. Another interesting results is as the preference tables increase in size, as does the gap between the male and female scores. This has multiple reasons/interpretations; one being trivially that there is a larger range for the scores to take. Another alludes to the earlier point of the favourability of male preferred matchings and as the size increases, this issue becomes more apparent. "
   ]
  },
  {
   "cell_type": "markdown",
   "id": "1a053ff8",
   "metadata": {},
   "source": [
    "## Task 10"
   ]
  },
  {
   "cell_type": "markdown",
   "id": "5ec2af4e",
   "metadata": {},
   "source": [
    "Changes to code inspired by the 5R's:\n",
    "\n",
    "<u>Replicable</u><br>\n",
    "The code does not deviate from the algorithm description in the stable marriage given by Knuth and Goldstein, and follows along as broadly as possible without too many deviations. \n",
    "\n",
    "<u>Re-runnable</u><br>\n",
    "All packages used are either standard libraries, or well maintained packages that are widely used. All functions within these packages are commonly used and thus likely to stay stable and not immediately obvious to be depricated and cause issues if the code was to be run in the far future. Although more maybe could be done to rely even less on packages.\n",
    "\n",
    "<u>Repeatable</u><br>\n",
    "Will tie into the later reproducible section but all randomness used is fixed to a seed as that deterministic output is given, even when random numbers are involved. If the notebook was re-run, on the same computer set up, the same output should be given. Where this may not work would be computational times, problems might arise on different set-ups and computational time might vary. This is slightly controlled by taking the mean of multiple simulations (Task 8)  to hopefully not allow too much to stray from what is expected. Another consequence that could be improved is the constant used to scale the $x^2$ function on the time graphs. This has been manually tuned to fit computational time on my current device running the code, and will need to be adjusted likely for other mediums. Thus a better way (which i haven't quite come up with in time) could help in this issue.\n",
    "\n",
    "<u>Reproducible</u><br>\n",
    "This can be seen as an subset of the previous R. The only data required for reproduciblility is for randomness to come from the same source, this can be done by setting an equivalent seed to generate the preference tables (in our case `random.seed(42)`) to attain the same results. Computational time could be reproduced by stating the software specifications used to run the simulation. And is given so at the beginning of the task. The tests given at the end each task to check the output is what we expect can also help garner reproducible results. \n",
    "\n",
    "<u>Reusable</u><br>\n",
    "By sectioning each task and commenting liberally, we have the means for future developers to easily digest, adapt, and explore the code base. As is the tests to check if a more efficient way to carry out tasks is found, we can compare this to the previous results with the old way and verify consistency.  "
   ]
  }
 ],
 "metadata": {
  "kernelspec": {
   "display_name": "Python 3",
   "language": "python",
   "name": "python3"
  },
  "language_info": {
   "codemirror_mode": {
    "name": "ipython",
    "version": 3
   },
   "file_extension": ".py",
   "mimetype": "text/x-python",
   "name": "python",
   "nbconvert_exporter": "python",
   "pygments_lexer": "ipython3",
   "version": "3.8.8"
  }
 },
 "nbformat": 4,
 "nbformat_minor": 5
}
